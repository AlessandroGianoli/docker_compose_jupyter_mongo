{
 "cells": [
  {
   "cell_type": "code",
   "execution_count": 2,
   "id": "00d32138",
   "metadata": {},
   "outputs": [],
   "source": [
    "from os import environ \n",
    "from twitter import OAuth"
   ]
  },
  {
   "cell_type": "code",
   "execution_count": 4,
   "id": "7af7de1f",
   "metadata": {},
   "outputs": [],
   "source": [
    "oauth = OAuth(environ['ACCESS_TOKEN'], \n",
    "              environ['ACCESS_SECRET'],\n",
    "              environ['CONSUMER_KEY'],\n",
    "              environ['CONSUMER_SECRET'])"
   ]
  },
  {
   "cell_type": "code",
   "execution_count": 5,
   "id": "e69cfaa0",
   "metadata": {},
   "outputs": [],
   "source": [
    "from twitter import TwitterStream"
   ]
  },
  {
   "cell_type": "code",
   "execution_count": 7,
   "id": "06a6f480",
   "metadata": {},
   "outputs": [],
   "source": [
    "los_angeles_bbox = \"-118.55, 33.97, -118.44, 34.05\" "
   ]
  },
  {
   "cell_type": "code",
   "execution_count": 39,
   "id": "f2d144df",
   "metadata": {},
   "outputs": [],
   "source": [
    "twitterator = (TwitterStream(auth=oauth).statuses.filter(locations=los_angeles_bbox))"
   ]
  },
  {
   "cell_type": "code",
   "execution_count": 12,
   "id": "b3678611",
   "metadata": {},
   "outputs": [
    {
     "data": {
      "text/plain": [
       "'-118.55, 33.97, -118.44, 34.05'"
      ]
     },
     "execution_count": 12,
     "metadata": {},
     "output_type": "execute_result"
    }
   ],
   "source": [
    "los_angeles_bbox"
   ]
  },
  {
   "cell_type": "code",
   "execution_count": 45,
   "id": "6b47ef9d",
   "metadata": {},
   "outputs": [
    {
     "data": {
      "text/plain": [
       "dict_keys(['created_at', 'id', 'id_str', 'text', 'source', 'truncated', 'in_reply_to_status_id', 'in_reply_to_status_id_str', 'in_reply_to_user_id', 'in_reply_to_user_id_str', 'in_reply_to_screen_name', 'user', 'geo', 'coordinates', 'place', 'contributors', 'quoted_status_id', 'quoted_status_id_str', 'quoted_status', 'quoted_status_permalink', 'is_quote_status', 'quote_count', 'reply_count', 'retweet_count', 'favorite_count', 'entities', 'favorited', 'retweeted', 'filter_level', 'lang', 'timestamp_ms'])"
      ]
     },
     "execution_count": 45,
     "metadata": {},
     "output_type": "execute_result"
    }
   ],
   "source": [
    "this_tweet = next(twitterator) \n",
    "this_tweet.keys()"
   ]
  },
  {
   "cell_type": "code",
   "execution_count": 46,
   "id": "90666a3b",
   "metadata": {
    "scrolled": true
   },
   "outputs": [
    {
     "data": {
      "text/plain": [
       "{'created_at': 'Fri Sep 17 04:48:59 +0000 2021',\n",
       " 'id': 1438726654600224768,\n",
       " 'id_str': '1438726654600224768',\n",
       " 'text': 'Learned this in college and stuff just makes sense fr',\n",
       " 'source': '<a href=\"http://twitter.com/download/iphone\" rel=\"nofollow\">Twitter for iPhone</a>',\n",
       " 'truncated': False,\n",
       " 'in_reply_to_status_id': None,\n",
       " 'in_reply_to_status_id_str': None,\n",
       " 'in_reply_to_user_id': None,\n",
       " 'in_reply_to_user_id_str': None,\n",
       " 'in_reply_to_screen_name': None,\n",
       " 'user': {'id': 70609861,\n",
       "  'id_str': '70609861',\n",
       "  'name': '𝚍 𝚊 𝚗 𝚊 𝚎 💋',\n",
       "  'screen_name': 'nancydanae',\n",
       "  'location': '818📍',\n",
       "  'url': None,\n",
       "  'description': None,\n",
       "  'translator_type': 'none',\n",
       "  'protected': False,\n",
       "  'verified': False,\n",
       "  'followers_count': 1177,\n",
       "  'friends_count': 661,\n",
       "  'listed_count': 11,\n",
       "  'favourites_count': 37114,\n",
       "  'statuses_count': 36928,\n",
       "  'created_at': 'Tue Sep 01 05:47:13 +0000 2009',\n",
       "  'utc_offset': None,\n",
       "  'time_zone': None,\n",
       "  'geo_enabled': True,\n",
       "  'lang': None,\n",
       "  'contributors_enabled': False,\n",
       "  'is_translator': False,\n",
       "  'profile_background_color': '000000',\n",
       "  'profile_background_image_url': 'http://abs.twimg.com/images/themes/theme14/bg.gif',\n",
       "  'profile_background_image_url_https': 'https://abs.twimg.com/images/themes/theme14/bg.gif',\n",
       "  'profile_background_tile': False,\n",
       "  'profile_link_color': 'F58EA8',\n",
       "  'profile_sidebar_border_color': '000000',\n",
       "  'profile_sidebar_fill_color': '000000',\n",
       "  'profile_text_color': '000000',\n",
       "  'profile_use_background_image': False,\n",
       "  'profile_image_url': 'http://pbs.twimg.com/profile_images/1432085467286032384/Fo_7cmAD_normal.jpg',\n",
       "  'profile_image_url_https': 'https://pbs.twimg.com/profile_images/1432085467286032384/Fo_7cmAD_normal.jpg',\n",
       "  'profile_banner_url': 'https://pbs.twimg.com/profile_banners/70609861/1629360146',\n",
       "  'default_profile': False,\n",
       "  'default_profile_image': False,\n",
       "  'following': None,\n",
       "  'follow_request_sent': None,\n",
       "  'notifications': None,\n",
       "  'withheld_in_countries': []},\n",
       " 'geo': None,\n",
       " 'coordinates': None,\n",
       " 'place': {'id': '3b77caf94bfc81fe',\n",
       "  'url': 'https://api.twitter.com/1.1/geo/id/3b77caf94bfc81fe.json',\n",
       "  'place_type': 'city',\n",
       "  'name': 'Los Angeles',\n",
       "  'full_name': 'Los Angeles, CA',\n",
       "  'country_code': 'US',\n",
       "  'country': 'United States',\n",
       "  'bounding_box': {'type': 'Polygon',\n",
       "   'coordinates': [[[-118.668404, 33.704538],\n",
       "     [-118.668404, 34.337041],\n",
       "     [-118.155409, 34.337041],\n",
       "     [-118.155409, 33.704538]]]},\n",
       "  'attributes': {}},\n",
       " 'contributors': None,\n",
       " 'quoted_status_id': 1438235108637609996,\n",
       " 'quoted_status_id_str': '1438235108637609996',\n",
       " 'quoted_status': {'created_at': 'Wed Sep 15 20:15:45 +0000 2021',\n",
       "  'id': 1438235108637609996,\n",
       "  'id_str': '1438235108637609996',\n",
       "  'text': 'When you find out that 6 companies control 90% of what you see and hear, it’ll all start making sense.',\n",
       "  'source': '<a href=\"http://twitter.com/download/iphone\" rel=\"nofollow\">Twitter for iPhone</a>',\n",
       "  'truncated': False,\n",
       "  'in_reply_to_status_id': None,\n",
       "  'in_reply_to_status_id_str': None,\n",
       "  'in_reply_to_user_id': None,\n",
       "  'in_reply_to_user_id_str': None,\n",
       "  'in_reply_to_screen_name': None,\n",
       "  'user': {'id': 868346664129581056,\n",
       "   'id_str': '868346664129581056',\n",
       "   'name': '.',\n",
       "   'screen_name': 'humb1ed_',\n",
       "   'location': 'Charlotte ',\n",
       "   'url': None,\n",
       "   'description': 'if you ain’t wit the bidness, mind ya bidness',\n",
       "   'translator_type': 'none',\n",
       "   'protected': False,\n",
       "   'verified': False,\n",
       "   'followers_count': 3723,\n",
       "   'friends_count': 1041,\n",
       "   'listed_count': 7,\n",
       "   'favourites_count': 34289,\n",
       "   'statuses_count': 53497,\n",
       "   'created_at': 'Sat May 27 06:02:32 +0000 2017',\n",
       "   'utc_offset': None,\n",
       "   'time_zone': None,\n",
       "   'geo_enabled': False,\n",
       "   'lang': None,\n",
       "   'contributors_enabled': False,\n",
       "   'is_translator': False,\n",
       "   'profile_background_color': 'F5F8FA',\n",
       "   'profile_background_image_url': '',\n",
       "   'profile_background_image_url_https': '',\n",
       "   'profile_background_tile': False,\n",
       "   'profile_link_color': '1DA1F2',\n",
       "   'profile_sidebar_border_color': 'C0DEED',\n",
       "   'profile_sidebar_fill_color': 'DDEEF6',\n",
       "   'profile_text_color': '333333',\n",
       "   'profile_use_background_image': True,\n",
       "   'profile_image_url': 'http://pbs.twimg.com/profile_images/1431377275962920961/gBdC5sAt_normal.jpg',\n",
       "   'profile_image_url_https': 'https://pbs.twimg.com/profile_images/1431377275962920961/gBdC5sAt_normal.jpg',\n",
       "   'profile_banner_url': 'https://pbs.twimg.com/profile_banners/868346664129581056/1571537702',\n",
       "   'default_profile': True,\n",
       "   'default_profile_image': False,\n",
       "   'following': None,\n",
       "   'follow_request_sent': None,\n",
       "   'notifications': None,\n",
       "   'withheld_in_countries': []},\n",
       "  'geo': None,\n",
       "  'coordinates': None,\n",
       "  'place': None,\n",
       "  'contributors': None,\n",
       "  'is_quote_status': False,\n",
       "  'quote_count': 506,\n",
       "  'reply_count': 151,\n",
       "  'retweet_count': 9114,\n",
       "  'favorite_count': 40309,\n",
       "  'entities': {'hashtags': [], 'urls': [], 'user_mentions': [], 'symbols': []},\n",
       "  'favorited': False,\n",
       "  'retweeted': False,\n",
       "  'filter_level': 'low',\n",
       "  'lang': 'en'},\n",
       " 'quoted_status_permalink': {'url': 'https://t.co/f46GYlB34x',\n",
       "  'expanded': 'https://twitter.com/humb1ed_/status/1438235108637609996',\n",
       "  'display': 'twitter.com/humb1ed_/statu…'},\n",
       " 'is_quote_status': True,\n",
       " 'quote_count': 0,\n",
       " 'reply_count': 0,\n",
       " 'retweet_count': 0,\n",
       " 'favorite_count': 0,\n",
       " 'entities': {'hashtags': [], 'urls': [], 'user_mentions': [], 'symbols': []},\n",
       " 'favorited': False,\n",
       " 'retweeted': False,\n",
       " 'filter_level': 'low',\n",
       " 'lang': 'en',\n",
       " 'timestamp_ms': '1631854139362'}"
      ]
     },
     "execution_count": 46,
     "metadata": {},
     "output_type": "execute_result"
    }
   ],
   "source": [
    "this_tweet"
   ]
  },
  {
   "cell_type": "code",
   "execution_count": 15,
   "id": "7f68c1b9",
   "metadata": {},
   "outputs": [],
   "source": [
    "import pymongo "
   ]
  },
  {
   "cell_type": "code",
   "execution_count": 16,
   "id": "3b085a97",
   "metadata": {},
   "outputs": [],
   "source": [
    "from pymongo import MongoClient"
   ]
  },
  {
   "cell_type": "code",
   "execution_count": 18,
   "id": "68e9b208",
   "metadata": {},
   "outputs": [],
   "source": [
    "mongo_server = pymongo.MongoClient('this_mongo')"
   ]
  },
  {
   "cell_type": "code",
   "execution_count": 48,
   "id": "14a672c8",
   "metadata": {},
   "outputs": [],
   "source": [
    "result = (mongo_server.twitter.tweets.insert_one(this_tweet))"
   ]
  },
  {
   "cell_type": "code",
   "execution_count": 22,
   "id": "b489825e",
   "metadata": {},
   "outputs": [
    {
     "data": {
      "text/plain": [
       "<pymongo.results.InsertOneResult at 0x7f00206af3c0>"
      ]
     },
     "execution_count": 22,
     "metadata": {},
     "output_type": "execute_result"
    }
   ],
   "source": [
    "result"
   ]
  },
  {
   "cell_type": "code",
   "execution_count": 49,
   "id": "fe80a6a7",
   "metadata": {},
   "outputs": [
    {
     "name": "stderr",
     "output_type": "stream",
     "text": [
      "/tmp/ipykernel_39/3423086592.py:1: DeprecationWarning: count is deprecated. Use estimated_document_count or count_documents instead. Please note that $where must be replaced by $expr, $near must be replaced by $geoWithin with $center, and $nearSphere must be replaced by $geoWithin with $centerSphere\n",
      "  (mongo_server.twitter.tweets.count())\n"
     ]
    },
    {
     "data": {
      "text/plain": [
       "3"
      ]
     },
     "execution_count": 49,
     "metadata": {},
     "output_type": "execute_result"
    }
   ],
   "source": [
    "(mongo_server.twitter.tweets.count())"
   ]
  },
  {
   "cell_type": "code",
   "execution_count": 76,
   "id": "7e840615",
   "metadata": {},
   "outputs": [],
   "source": [
    "cursor = mongo_server.twitter.tweets.find()"
   ]
  },
  {
   "cell_type": "code",
   "execution_count": 77,
   "id": "cdb70ac6",
   "metadata": {},
   "outputs": [
    {
     "data": {
      "text/plain": [
       "<pymongo.cursor.Cursor at 0x7effc4c3cb20>"
      ]
     },
     "execution_count": 77,
     "metadata": {},
     "output_type": "execute_result"
    }
   ],
   "source": [
    "cursor"
   ]
  },
  {
   "cell_type": "code",
   "execution_count": 79,
   "id": "5fc26ec8",
   "metadata": {},
   "outputs": [],
   "source": [
    "stored_tweet = cursor.next()"
   ]
  },
  {
   "cell_type": "code",
   "execution_count": 80,
   "id": "630e979a",
   "metadata": {
    "scrolled": true
   },
   "outputs": [
    {
     "data": {
      "text/plain": [
       "{'_id': ObjectId('61441d92c78912ac3e36adbe'),\n",
       " 'created_at': 'Fri Sep 17 04:45:35 +0000 2021',\n",
       " 'id': 1438725797532078080,\n",
       " 'id_str': '1438725797532078080',\n",
       " 'text': 'Missed the boss man @cheftimhollingsworth but this is one incredible experience @otiumla #foodporn… https://t.co/8GMNvDpFcq',\n",
       " 'source': '<a href=\"http://instagram.com\" rel=\"nofollow\">Instagram</a>',\n",
       " 'truncated': True,\n",
       " 'in_reply_to_status_id': None,\n",
       " 'in_reply_to_status_id_str': None,\n",
       " 'in_reply_to_user_id': None,\n",
       " 'in_reply_to_user_id_str': None,\n",
       " 'in_reply_to_screen_name': None,\n",
       " 'user': {'id': 83542850,\n",
       "  'id_str': '83542850',\n",
       "  'name': 'PKNUCKLE',\n",
       "  'screen_name': 'PKNUCKLEMUSIC',\n",
       "  'location': 'Los Angeles',\n",
       "  'url': 'http://dopekingshop.com',\n",
       "  'description': 'RAP ARTIST, C.E.O of UNDER THE TABLE/EMPIRE #DOPEKINGS http://INSTAGRAM.COM/PKNUCKLEMUSIC pknucklemusic@yahoo.com',\n",
       "  'translator_type': 'none',\n",
       "  'protected': False,\n",
       "  'verified': False,\n",
       "  'followers_count': 2737,\n",
       "  'friends_count': 971,\n",
       "  'listed_count': 38,\n",
       "  'favourites_count': 1332,\n",
       "  'statuses_count': 18228,\n",
       "  'created_at': 'Mon Oct 19 07:09:16 +0000 2009',\n",
       "  'utc_offset': None,\n",
       "  'time_zone': None,\n",
       "  'geo_enabled': True,\n",
       "  'lang': None,\n",
       "  'contributors_enabled': False,\n",
       "  'is_translator': False,\n",
       "  'profile_background_color': 'C0DEED',\n",
       "  'profile_background_image_url': 'http://abs.twimg.com/images/themes/theme1/bg.png',\n",
       "  'profile_background_image_url_https': 'https://abs.twimg.com/images/themes/theme1/bg.png',\n",
       "  'profile_background_tile': False,\n",
       "  'profile_link_color': '1DA1F2',\n",
       "  'profile_sidebar_border_color': 'C0DEED',\n",
       "  'profile_sidebar_fill_color': 'DDEEF6',\n",
       "  'profile_text_color': '333333',\n",
       "  'profile_use_background_image': True,\n",
       "  'profile_image_url': 'http://pbs.twimg.com/profile_images/845721937707905024/e276We_C_normal.jpg',\n",
       "  'profile_image_url_https': 'https://pbs.twimg.com/profile_images/845721937707905024/e276We_C_normal.jpg',\n",
       "  'profile_banner_url': 'https://pbs.twimg.com/profile_banners/83542850/1485053404',\n",
       "  'default_profile': True,\n",
       "  'default_profile_image': False,\n",
       "  'following': None,\n",
       "  'follow_request_sent': None,\n",
       "  'notifications': None,\n",
       "  'withheld_in_countries': []},\n",
       " 'geo': {'type': 'Point', 'coordinates': [34.05426312, -118.2512601]},\n",
       " 'coordinates': {'type': 'Point', 'coordinates': [-118.2512601, 34.05426312]},\n",
       " 'place': {'id': '3b77caf94bfc81fe',\n",
       "  'url': 'https://api.twitter.com/1.1/geo/id/3b77caf94bfc81fe.json',\n",
       "  'place_type': 'city',\n",
       "  'name': 'Los Angeles',\n",
       "  'full_name': 'Los Angeles, CA',\n",
       "  'country_code': 'US',\n",
       "  'country': 'United States',\n",
       "  'bounding_box': {'type': 'Polygon',\n",
       "   'coordinates': [[[-118.668404, 33.704538],\n",
       "     [-118.668404, 34.337041],\n",
       "     [-118.155409, 34.337041],\n",
       "     [-118.155409, 33.704538]]]},\n",
       "  'attributes': {}},\n",
       " 'contributors': None,\n",
       " 'is_quote_status': False,\n",
       " 'extended_tweet': {'full_text': 'Missed the boss man @cheftimhollingsworth but this is one incredible experience @otiumla #foodporn #thisislosangeles #newla @ Otium https://t.co/JxraoZgcrf',\n",
       "  'display_text_range': [0, 155],\n",
       "  'entities': {'hashtags': [{'text': 'foodporn', 'indices': [89, 98]},\n",
       "    {'text': 'thisislosangeles', 'indices': [99, 116]},\n",
       "    {'text': 'newla', 'indices': [117, 123]}],\n",
       "   'urls': [{'url': 'https://t.co/JxraoZgcrf',\n",
       "     'expanded_url': 'https://www.instagram.com/p/CT6Omn6rPyJ/?utm_medium=twitter',\n",
       "     'display_url': 'instagram.com/p/CT6Omn6rPyJ/…',\n",
       "     'indices': [132, 155]}],\n",
       "   'user_mentions': [{'screen_name': 'otiumla',\n",
       "     'name': 'Otium LA',\n",
       "     'id': 2917966400,\n",
       "     'id_str': '2917966400',\n",
       "     'indices': [80, 88]}],\n",
       "   'symbols': []}},\n",
       " 'quote_count': 0,\n",
       " 'reply_count': 0,\n",
       " 'retweet_count': 0,\n",
       " 'favorite_count': 0,\n",
       " 'entities': {'hashtags': [{'text': 'foodporn', 'indices': [89, 98]}],\n",
       "  'urls': [{'url': 'https://t.co/8GMNvDpFcq',\n",
       "    'expanded_url': 'https://twitter.com/i/web/status/1438725797532078080',\n",
       "    'display_url': 'twitter.com/i/web/status/1…',\n",
       "    'indices': [100, 123]}],\n",
       "  'user_mentions': [{'screen_name': 'otiumla',\n",
       "    'name': 'Otium LA',\n",
       "    'id': 2917966400,\n",
       "    'id_str': '2917966400',\n",
       "    'indices': [80, 88]}],\n",
       "  'symbols': []},\n",
       " 'favorited': False,\n",
       " 'retweeted': False,\n",
       " 'possibly_sensitive': False,\n",
       " 'filter_level': 'low',\n",
       " 'lang': 'en',\n",
       " 'timestamp_ms': '1631853935021'}"
      ]
     },
     "execution_count": 80,
     "metadata": {},
     "output_type": "execute_result"
    }
   ],
   "source": [
    "stored_tweet"
   ]
  },
  {
   "cell_type": "code",
   "execution_count": 81,
   "id": "29fb1561",
   "metadata": {},
   "outputs": [
    {
     "data": {
      "text/plain": [
       "'Missed the boss man @cheftimhollingsworth but this is one incredible experience @otiumla #foodporn… https://t.co/8GMNvDpFcq'"
      ]
     },
     "execution_count": 81,
     "metadata": {},
     "output_type": "execute_result"
    }
   ],
   "source": [
    "stored_tweet['text']"
   ]
  }
 ],
 "metadata": {
  "kernelspec": {
   "display_name": "Python 3 (ipykernel)",
   "language": "python",
   "name": "python3"
  },
  "language_info": {
   "codemirror_mode": {
    "name": "ipython",
    "version": 3
   },
   "file_extension": ".py",
   "mimetype": "text/x-python",
   "name": "python",
   "nbconvert_exporter": "python",
   "pygments_lexer": "ipython3",
   "version": "3.9.6"
  }
 },
 "nbformat": 4,
 "nbformat_minor": 5
}
